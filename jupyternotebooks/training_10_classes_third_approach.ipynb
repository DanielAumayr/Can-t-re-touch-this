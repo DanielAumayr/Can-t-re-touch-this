{
 "cells": [
  {
   "cell_type": "code",
   "execution_count": 1,
   "metadata": {},
   "outputs": [],
   "source": [
    "#https://www.tensorflow.org/api_docs/python/tf\n",
    "#https://keras.io/guides/\n",
    "import tensorflow as tf\n",
    "import numpy as np\n",
    "from tensorflow.keras import Model, layers\n",
    "from glob import glob\n",
    "from sklearn.model_selection import train_test_split\n",
    "import seaborn as sns\n",
    "import matplotlib.pyplot as plt"
   ]
  },
  {
   "cell_type": "code",
   "execution_count": 2,
   "metadata": {},
   "outputs": [
    {
     "name": "stdout",
     "output_type": "stream",
     "text": [
      "Num GPUs Available:  1\n",
      "WARNING:tensorflow:From <ipython-input-2-35308ee15e6f>:2: is_gpu_available (from tensorflow.python.framework.test_util) is deprecated and will be removed in a future version.\n",
      "Instructions for updating:\n",
      "Use `tf.config.list_physical_devices('GPU')` instead.\n",
      "GPU is available\n"
     ]
    }
   ],
   "source": [
    "print(\"Num GPUs Available: \", len(tf.config.list_physical_devices(\"GPU\")))\n",
    "print(\"GPU is\", \"available\" if tf.test.is_gpu_available() else \"NOT\")"
   ]
  },
  {
   "cell_type": "code",
   "execution_count": 3,
   "metadata": {},
   "outputs": [],
   "source": [
    "original = glob('C:/Users/Daniel/Documents/MCI/bach/jupyter/data/bearbeitet/train/original/*.*')\n",
    "smooth = glob('C:/Users/Daniel/Documents/MCI/bach/jupyter/data/bearbeitet/train/smooth/*.*')\n",
    "pop = glob('C:/Users/Daniel/Documents/MCI/bach/jupyter/data/bearbeitet/train/pop/*.*')\n",
    "accentuate = glob('C:/Users/Daniel/Documents/MCI/bach/jupyter/data/bearbeitet/train/accentuate/*.*')\n",
    "morning = glob('C:/Users/Daniel/Documents/MCI/bach/jupyter/data/bearbeitet/train/morning/*.*')\n",
    "DramaDark = glob('C:/Users/Daniel/Documents/MCI/bach/jupyter/data/bearbeitet/train/DramaDark/*.*')\n",
    "Vintage = glob('C:/Users/Daniel/Documents/MCI/bach/jupyter/data/bearbeitet/train/Vintage/*.*')\n",
    "Retrolux8 = glob('C:/Users/Daniel/Documents/MCI/bach/jupyter/data/bearbeitet/train/Retrolux8/*.*')\n",
    "Crunch3 = glob('C:/Users/Daniel/Documents/MCI/bach/jupyter/data/bearbeitet/train/Crunch3/*.*')\n",
    "Kornung104 = glob('C:/Users/Daniel/Documents/MCI/bach/jupyter/data/bearbeitet/train/Kornung104/*.*')\n",
    "\n",
    "data = []\n",
    "labels = []\n",
    "\n",
    "for i in original:\n",
    "    image=tf.keras.preprocessing.image.load_img(i, color_mode='rgb', \n",
    "    target_size= (256,256))\n",
    "    image=np.array(image)\n",
    "    data.append(image)\n",
    "    labels.append(0)\n",
    "for i in smooth:   \n",
    "    image=tf.keras.preprocessing.image.load_img(i, color_mode='rgb', \n",
    "    target_size= (256,256))\n",
    "    image=np.array(image)\n",
    "    data.append(image)\n",
    "    labels.append(1)\n",
    "for i in pop:   \n",
    "    image=tf.keras.preprocessing.image.load_img(i, color_mode='rgb', \n",
    "    target_size= (256,256))\n",
    "    image=np.array(image)\n",
    "    data.append(image)\n",
    "    labels.append(2)\n",
    "for i in accentuate:   \n",
    "    image=tf.keras.preprocessing.image.load_img(i, color_mode='rgb', \n",
    "    target_size= (256,256))\n",
    "    image=np.array(image)\n",
    "    data.append(image)\n",
    "    labels.append(3)\n",
    "for i in morning:   \n",
    "    image=tf.keras.preprocessing.image.load_img(i, color_mode='rgb', \n",
    "    target_size= (256,256))\n",
    "    image=np.array(image)\n",
    "    data.append(image)\n",
    "    labels.append(4)\n",
    "for i in DramaDark:   \n",
    "    image=tf.keras.preprocessing.image.load_img(i, color_mode='rgb', \n",
    "    target_size= (256,256))\n",
    "    image=np.array(image)\n",
    "    data.append(image)\n",
    "    labels.append(5)\n",
    "for i in Vintage:   \n",
    "    image=tf.keras.preprocessing.image.load_img(i, color_mode='rgb', \n",
    "    target_size= (256,256))\n",
    "    image=np.array(image)\n",
    "    data.append(image)\n",
    "    labels.append(6)\n",
    "for i in Retrolux8:   \n",
    "    image=tf.keras.preprocessing.image.load_img(i, color_mode='rgb', \n",
    "    target_size= (256,256))\n",
    "    image=np.array(image)\n",
    "    data.append(image)\n",
    "    labels.append(7)\n",
    "for i in Crunch3:   \n",
    "    image=tf.keras.preprocessing.image.load_img(i, color_mode='rgb', \n",
    "    target_size= (256,256))\n",
    "    image=np.array(image)\n",
    "    data.append(image)\n",
    "    labels.append(8)\n",
    "for i in Kornung104:   \n",
    "    image=tf.keras.preprocessing.image.load_img(i, color_mode='rgb', \n",
    "    target_size= (256,256))\n",
    "    image=np.array(image)\n",
    "    data.append(image)\n",
    "    labels.append(9)\n",
    "\n",
    "    \n",
    "data = np.array(data)\n",
    "labels = np.array(labels)\n",
    "\n"
   ]
  },
  {
   "cell_type": "code",
   "execution_count": 4,
   "metadata": {},
   "outputs": [],
   "source": [
    "x_train, x_test, y_train, y_test = train_test_split(data, labels, test_size=0.2,\n",
    "                                                random_state=24)\n"
   ]
  },
  {
   "cell_type": "code",
   "execution_count": 5,
   "metadata": {},
   "outputs": [],
   "source": [
    "x_train = x_train/255.0"
   ]
  },
  {
   "cell_type": "code",
   "execution_count": 6,
   "metadata": {},
   "outputs": [],
   "source": [
    "num_classes = 10 # total classes (0-9 digits).\n",
    "\n",
    "# Training parameters.\n",
    "learning_rate = 0.001\n",
    "training_steps = 2000\n",
    "batch_size = 64\n",
    "display_step = 100\n",
    "\n",
    "# Network parameters.\n",
    "conv1_filters = 32 # number of filters for 1st conv layer.\n",
    "conv2_filters = 64 # number of filters for 2nd conv layer.\n",
    "fc1_units = 1024 # number of neurons for 1st fully-connected layer."
   ]
  },
  {
   "cell_type": "code",
   "execution_count": 7,
   "metadata": {},
   "outputs": [],
   "source": [
    "train_data = tf.data.Dataset.from_tensor_slices((x_train, y_train))\n",
    "train_data = train_data.repeat().shuffle(5000).batch(batch_size).prefetch(1)"
   ]
  },
  {
   "cell_type": "code",
   "execution_count": 8,
   "metadata": {},
   "outputs": [],
   "source": [
    "#https://github.com/pkorus/neural-imaging\n",
    "\n",
    "class ConstrainedConv2D(tf.keras.layers.Layer):\n",
    "    \"\"\"\n",
    "    Implementation of a trainable constrained residual filter (based on [1] and extended to RGB inputs). \n",
    "    The layer learns a 2D convolution filter (5, 5, 3, 3) where:\n",
    "    - a central pixel in each channel [2, 2, i, i] is set to a fixed negative value\n",
    "    - each output channel is normalized to sum to 0 [:, :, :, i]\n",
    "    \n",
    "    For example, an intra-channel filter [:, :, i, i] may look like:\n",
    "    [  -0.73    0.41   -1.24   -1.26    0.69]\n",
    "    [  -0.29    7.91   17.53    8.6     0.29]\n",
    "    [  -0.62   16.7  -100.0    16.1     0.22]\n",
    "    [   0.54    9.3    16.05    8.19    0.98]\n",
    "    [  -0.57   -0.7    -0.4     1.22   -0.13]\n",
    "    The layer is pre-initialized with a simple residual filter with no intra-channel interactions.\n",
    "    # References\n",
    "    [1] Bayar & Stamm, Constrained convolutional neural networks: A new approach towards general purpose image \n",
    "        manipulation detection. IEEE Transactions on Information Forensics and Security, 13 (11), 2018\n",
    "    \"\"\"\n",
    "\n",
    "    def __init__(self, filter_strength=100, trainable=True):\n",
    "        super().__init__()\n",
    "        self.filter_strength = filter_strength\n",
    "\n",
    "        f = np.array([[0, 0, 0, 0, 0], [0, -1, -2, -1, 0], [0, -2, 12, -2, 0], [0, -1, -2, -1, 0], [0, 0, 0, 0, 0]])\n",
    "        self.kernel = self.add_weight(\"kernel\", shape=(5, 5, 3, 3),\n",
    "                                      initializer=tf.constant_initializer(repeat_2dfilter(f, 3)),\n",
    "                                      trainable=trainable)\n",
    "\n",
    "    def call(self, input):\n",
    "        # Mask for normalizing the residual filter\n",
    "        tf_ind = tf.constant(center_mask_2dfilter(5, 3), dtype=tf.float32)\n",
    "\n",
    "        # Normalize the residual filter\n",
    "        nf = self.kernel * (1 - tf_ind)\n",
    "        df = tf.tile(tf.reshape(tf.reduce_sum(nf, axis=(0,1,2)), [1, 1, 1, 3]), [5, 5, 3, 1])\n",
    "        nf = self.filter_strength * nf / df\n",
    "        nf = nf - self.filter_strength * tf_ind\n",
    "\n",
    "        # Convolution with the residual filter\n",
    "        xp = tf.pad(input, [[0, 0], [2, 2], [2, 2], [0, 0]], 'SYMMETRIC')\n",
    "        return tf.nn.conv2d(xp, nf, [1, 1, 1, 1], 'VALID')"
   ]
  },
  {
   "cell_type": "code",
   "execution_count": 9,
   "metadata": {},
   "outputs": [],
   "source": [
    "#https://github.com/pkorus/neural-imaging\n",
    "def repeat_2dfilter(f, channels=3, pad=0):\n",
    "    \"\"\"\n",
    "    Repeat a 2D filter along channel dimensions (both input/output). Useful for kernel initialization in conv. layers.\n",
    "    :param f: 2d filter\n",
    "    :param channels: number of input/output channels\n",
    "    :param pad: optional padding (along the spatial dimension)\n",
    "    :return: valid conv 2d kernel (kernel, kernel, channels, channels)\n",
    "    \"\"\"\n",
    "    rf = np.zeros((f.shape[0] + 2 * pad, f.shape[1] + 2 * pad, channels, channels))\n",
    "\n",
    "    for r in range(channels):\n",
    "        rf[:, :, r, r] = np.pad(f, [pad, pad], 'constant')\n",
    "\n",
    "    return rf"
   ]
  },
  {
   "cell_type": "code",
   "execution_count": 10,
   "metadata": {},
   "outputs": [],
   "source": [
    "#https://github.com/pkorus/neural-imaging\n",
    "def center_mask_2dfilter(f_size, channels):\n",
    "    indicator = np.zeros((f_size, f_size, channels, channels))\n",
    "\n",
    "    for r in range(channels):\n",
    "        indicator[f_size // 2, f_size // 2, r, r] = 1\n",
    "\n",
    "    return indicator"
   ]
  },
  {
   "cell_type": "code",
   "execution_count": 11,
   "metadata": {},
   "outputs": [],
   "source": [
    "# Create TF Model.\n",
    "class ConvNet(Model):\n",
    "    # Set layers.\n",
    "    def __init__(self):\n",
    "        super(ConvNet, self).__init__()\n",
    "        # Convolution Layer with 32 filters and a kernel size of 5.\n",
    "        #self.testconv = MlpLayer([32,256,256,3],[\"relu\", \"softmax\"])\n",
    "        self.x = tf.keras.Input(dtype=tf.float32, shape=(batch_size, batch_size, 3))\n",
    "        self.testconv = ConstrainedConv2D()\n",
    "        self.conv1 = layers.Conv2D(96, kernel_size=7, strides=[2,2])\n",
    "        self.batchnorm1 = tf.keras.layers.BatchNormalization()\n",
    "        self.activ1 = tf.keras.layers.Activation('tanh')\n",
    "        # Max Pooling (down-sampling) with kernel size of 2 and strides of 2. \n",
    "        self.maxpool1 = layers.MaxPool2D(3, strides=2)\n",
    "\n",
    "        # Convolution Layer with 64 filters and a kernel size of 3.\n",
    "        self.conv2 = layers.Conv2D(64, kernel_size=5, strides=[1,1])\n",
    "        self.batchnorm2 = tf.keras.layers.BatchNormalization()\n",
    "        self.activ2 = tf.keras.layers.Activation('tanh')\n",
    "        # Max Pooling (down-sampling) with kernel size of 2 and strides of 2. \n",
    "        self.maxpool2 = layers.MaxPool2D(3, strides=2)\n",
    "        \n",
    "        self.conv3 = layers.Conv2D(64,kernel_size=5, strides=[1,1])\n",
    "        self.batchnorm3 = tf.keras.layers.BatchNormalization()\n",
    "        self.activ3 = tf.keras.layers.Activation('tanh')\n",
    "\n",
    "        self.maxpool3 = layers.MaxPool2D(3, strides=2)\n",
    "        # Flatten the data to a 1-D vector for the fully connected layer.\n",
    "        self.conv4 = layers.Conv2D(128,kernel_size=1, strides=[1,1])\n",
    "        self.batchnorm4 = tf.keras.layers.BatchNormalization()\n",
    "        self.activ4 = tf.keras.layers.Activation('tanh')\n",
    "\n",
    "        self.avgpool1 = layers.AveragePooling2D(3, strides=2)\n",
    "        \n",
    "        self.flatten = layers.Flatten()\n",
    "\n",
    "        # Fully connected layer.\n",
    "        self.fc1 = layers.Dense(200, activation=tf.nn.tanh)\n",
    "        # Apply Dropout (if is_training is False, dropout is not applied).\n",
    "        #self.dropout = layers.Dropout(rate=0.5)\n",
    "        self.fc2 = layers.Dense(200, activation=tf.nn.tanh)\n",
    "\n",
    "        # Output layer, class prediction.\n",
    "        self.out = layers.Dense(num_classes, activation ='softmax')\n",
    "\n",
    "    # Set forward pass.\n",
    "    def call(self, x, is_training=False):\n",
    "        x = tf.reshape(x, [-1, 256, 256, 3])\n",
    "        x = self.testconv(x)\n",
    "        x = self.conv1(x)\n",
    "        x = self.batchnorm1(x)\n",
    "        x = self.activ1(x)\n",
    "        x = self.maxpool1(x)\n",
    "        x = self.conv2(x)\n",
    "        x = self.batchnorm2(x)\n",
    "        x = self.activ2(x)\n",
    "        x = self.maxpool2(x)\n",
    "        x = self.conv3(x)\n",
    "        x = self.batchnorm3(x)\n",
    "        x = self.activ3(x)\n",
    "        x = self.maxpool3(x)\n",
    "        x = self.conv4(x)\n",
    "        x = self.batchnorm4(x)\n",
    "        x = self.activ4(x)\n",
    "        x = self.avgpool1(x)\n",
    "        x = self.flatten(x)\n",
    "        x = self.fc1(x)\n",
    "        x = self.fc2(x)\n",
    "        #x = self.dropout(x, training=is_training)\n",
    "        x = self.out(x)\n",
    "        #if not is_training:\n",
    "            # tf cross entropy expect logits without softmax, so only\n",
    "            # apply softmax when not training.\n",
    "            #x = tf.nn.softmax(x)\n",
    "        return x\n",
    "\n",
    "# Build neural network model.\n",
    "conv_net = ConvNet()"
   ]
  },
  {
   "cell_type": "code",
   "execution_count": 13,
   "metadata": {},
   "outputs": [],
   "source": [
    "sgd = tf.optimizers.SGD(lr=0.001, momentum=0.95, decay=0.0000001)\n",
    "#sgd = tf.optimizers.SGD(lr=0.001, momentum=0.95)\n",
    "conv_net.compile(optimizer=sgd,loss ='sparse_categorical_crossentropy', metrics=['accuracy'])\n",
    "#conv_net.build()"
   ]
  },
  {
   "cell_type": "code",
   "execution_count": 14,
   "metadata": {},
   "outputs": [],
   "source": [
    "#https://stackoverflow.com/questions/51440135/tensorflow-stop-training-when-losses-reach-a-defined-value\n",
    "class haltCallback(tf.keras.callbacks.Callback):\n",
    "    def on_epoch_end(self, epoch, logs={}):\n",
    "        if(logs.get('loss') <= 0.00005):\n",
    "            print(\"\\n\\n\\nReached 0.05 loss value so cancelling training!\\n\\n\\n\")\n",
    "            self.model.stop_training = True\n",
    "            \n",
    "callback = haltCallback()"
   ]
  },
  {
   "cell_type": "code",
   "execution_count": null,
   "metadata": {},
   "outputs": [],
   "source": [
    "#callback = tf.keras.callbacks.EarlyStopping(monitor='loss', mode='min', restore_best_weights=True)"
   ]
  },
  {
   "cell_type": "code",
   "execution_count": 15,
   "metadata": {},
   "outputs": [
    {
     "name": "stdout",
     "output_type": "stream",
     "text": [
      "Epoch 1/20\n",
      "  6/125 [>.............................] - ETA: 14s - loss: 2.3708 - accuracy: 0.1614WARNING:tensorflow:Callback method `on_train_batch_end` is slow compared to the batch time (batch time: 0.0199s vs `on_train_batch_end` time: 0.0832s). Check your callbacks.\n",
      "125/125 [==============================] - 18s 116ms/step - loss: 2.0547 - accuracy: 0.2577\n",
      "Epoch 2/20\n",
      "125/125 [==============================] - 14s 116ms/step - loss: 1.2179 - accuracy: 0.5741\n",
      "Epoch 3/20\n",
      "125/125 [==============================] - 15s 117ms/step - loss: 0.9259 - accuracy: 0.6617\n",
      "Epoch 4/20\n",
      "125/125 [==============================] - 15s 118ms/step - loss: 0.7481 - accuracy: 0.7156\n",
      "Epoch 5/20\n",
      "125/125 [==============================] - 14s 111ms/step - loss: 0.6269 - accuracy: 0.7525\n",
      "Epoch 6/20\n",
      "125/125 [==============================] - 14s 114ms/step - loss: 0.6387 - accuracy: 0.7527\n",
      "Epoch 7/20\n",
      "125/125 [==============================] - 14s 114ms/step - loss: 0.5096 - accuracy: 0.8011\n",
      "Epoch 8/20\n",
      "125/125 [==============================] - 14s 114ms/step - loss: 0.4567 - accuracy: 0.8070\n",
      "Epoch 9/20\n",
      "125/125 [==============================] - 14s 114ms/step - loss: 0.4091 - accuracy: 0.8320\n",
      "Epoch 10/20\n",
      "125/125 [==============================] - 14s 114ms/step - loss: 0.3682 - accuracy: 0.8550\n",
      "Epoch 11/20\n",
      "125/125 [==============================] - 14s 115ms/step - loss: 0.3720 - accuracy: 0.8411\n",
      "Epoch 12/20\n",
      "125/125 [==============================] - 15s 116ms/step - loss: 0.3499 - accuracy: 0.8547\n",
      "Epoch 13/20\n",
      "125/125 [==============================] - 14s 116ms/step - loss: 0.3020 - accuracy: 0.8709\n",
      "Epoch 14/20\n",
      "125/125 [==============================] - 14s 116ms/step - loss: 0.3187 - accuracy: 0.8672\n",
      "Epoch 15/20\n",
      "125/125 [==============================] - 15s 117ms/step - loss: 0.2924 - accuracy: 0.8831\n",
      "Epoch 16/20\n",
      "125/125 [==============================] - 15s 117ms/step - loss: 0.2813 - accuracy: 0.8813\n",
      "Epoch 17/20\n",
      "125/125 [==============================] - 15s 119ms/step - loss: 0.2941 - accuracy: 0.8751\n",
      "Epoch 18/20\n",
      "125/125 [==============================] - 15s 120ms/step - loss: 0.2652 - accuracy: 0.8932\n",
      "Epoch 19/20\n",
      "125/125 [==============================] - 16s 124ms/step - loss: 0.2823 - accuracy: 0.8812\n",
      "Epoch 20/20\n",
      "125/125 [==============================] - 15s 120ms/step - loss: 0.3339 - accuracy: 0.8593\n"
     ]
    },
    {
     "data": {
      "text/plain": [
       "<tensorflow.python.keras.callbacks.History at 0x26ce8ae7ac0>"
      ]
     },
     "execution_count": 15,
     "metadata": {},
     "output_type": "execute_result"
    }
   ],
   "source": [
    "conv_net.fit(x_train, y_train, batch_size = 64, epochs = 800, callbacks=[callback])"
   ]
  },
  {
   "cell_type": "code",
   "execution_count": 16,
   "metadata": {},
   "outputs": [
    {
     "name": "stdout",
     "output_type": "stream",
     "text": [
      "Model: \"conv_net\"\n",
      "_________________________________________________________________\n",
      "Layer (type)                 Output Shape              Param #   \n",
      "=================================================================\n",
      "constrained_conv2d (Constrai multiple                  225       \n",
      "_________________________________________________________________\n",
      "conv2d (Conv2D)              multiple                  14208     \n",
      "_________________________________________________________________\n",
      "batch_normalization (BatchNo multiple                  384       \n",
      "_________________________________________________________________\n",
      "activation (Activation)      multiple                  0         \n",
      "_________________________________________________________________\n",
      "max_pooling2d (MaxPooling2D) multiple                  0         \n",
      "_________________________________________________________________\n",
      "conv2d_1 (Conv2D)            multiple                  153664    \n",
      "_________________________________________________________________\n",
      "batch_normalization_1 (Batch multiple                  256       \n",
      "_________________________________________________________________\n",
      "activation_1 (Activation)    multiple                  0         \n",
      "_________________________________________________________________\n",
      "max_pooling2d_1 (MaxPooling2 multiple                  0         \n",
      "_________________________________________________________________\n",
      "conv2d_2 (Conv2D)            multiple                  102464    \n",
      "_________________________________________________________________\n",
      "batch_normalization_2 (Batch multiple                  256       \n",
      "_________________________________________________________________\n",
      "activation_2 (Activation)    multiple                  0         \n",
      "_________________________________________________________________\n",
      "max_pooling2d_2 (MaxPooling2 multiple                  0         \n",
      "_________________________________________________________________\n",
      "conv2d_3 (Conv2D)            multiple                  8320      \n",
      "_________________________________________________________________\n",
      "batch_normalization_3 (Batch multiple                  512       \n",
      "_________________________________________________________________\n",
      "activation_3 (Activation)    multiple                  0         \n",
      "_________________________________________________________________\n",
      "average_pooling2d (AveragePo multiple                  0         \n",
      "_________________________________________________________________\n",
      "flatten (Flatten)            multiple                  0         \n",
      "_________________________________________________________________\n",
      "dense (Dense)                multiple                  640200    \n",
      "_________________________________________________________________\n",
      "dense_1 (Dense)              multiple                  40200     \n",
      "_________________________________________________________________\n",
      "dense_2 (Dense)              multiple                  2010      \n",
      "=================================================================\n",
      "Total params: 962,699\n",
      "Trainable params: 961,995\n",
      "Non-trainable params: 704\n",
      "_________________________________________________________________\n"
     ]
    }
   ],
   "source": [
    "conv_net.summary()"
   ]
  },
  {
   "cell_type": "code",
   "execution_count": null,
   "metadata": {},
   "outputs": [],
   "source": [
    "conv_net.save('my_model_10_new_300_Epochs_decay_decreased')"
   ]
  },
  {
   "cell_type": "code",
   "execution_count": 17,
   "metadata": {},
   "outputs": [],
   "source": [
    "x_test = x_test/255.0"
   ]
  },
  {
   "cell_type": "code",
   "execution_count": 18,
   "metadata": {},
   "outputs": [],
   "source": [
    "y_pred = np.argmax(conv_net.predict(x_test), axis=1)"
   ]
  },
  {
   "cell_type": "code",
   "execution_count": 19,
   "metadata": {},
   "outputs": [],
   "source": [
    "commands = ['original', '1', '2', '3', '4', '5', '6', '7', '8', '9']"
   ]
  },
  {
   "cell_type": "code",
   "execution_count": 20,
   "metadata": {},
   "outputs": [
    {
     "data": {
      "image/png": "[encoded data removed]",
      "text/plain": [
       "<Figure size 720x576 with 2 Axes>"
      ]
     },
     "metadata": {
      "needs_background": "light"
     },
     "output_type": "display_data"
    }
   ],
   "source": [
    "confusion_mtx = tf.math.confusion_matrix(y_test, y_pred) \n",
    "plt.figure(figsize=(10, 8))\n",
    "sns.heatmap(confusion_mtx, xticklabels=commands, yticklabels=commands, \n",
    "            annot=True, fmt='g')\n",
    "plt.xlabel('Prediction')\n",
    "plt.ylabel('Label')\n",
    "plt.show()\n"
   ]
  },
  {
   "cell_type": "code",
   "execution_count": 21,
   "metadata": {},
   "outputs": [
    {
     "name": "stdout",
     "output_type": "stream",
     "text": [
      "63/63 - 2s - loss: 1.0109 - accuracy: 0.6650\n",
      "Restored model, accuracy: 66.50%\n"
     ]
    }
   ],
   "source": [
    "loss, acc = conv_net.evaluate(x_test, y_test, verbose=2)\n",
    "print(\"Restored model, accuracy: {:5.2f}%\".format(100 * acc))\n"
   ]
  },
  {
   "cell_type": "code",
   "execution_count": null,
   "metadata": {},
   "outputs": [],
   "source": [
    "conv_net.summary()"
   ]
  },
  {
   "cell_type": "code",
   "execution_count": null,
   "metadata": {},
   "outputs": [],
   "source": [
    "print(confusion_mtx)"
   ]
  },
  {
   "cell_type": "code",
   "execution_count": null,
   "metadata": {},
   "outputs": [],
   "source": [
    "import pandas as pd\n",
    "pd.DataFrame(y_pred).to_csv(\"pred.csv\", header=None, index=None)\n",
    "pd.DataFrame(y_test).to_csv(\"test.csv\", header=None, index=None)\n",
    "pd.DataFrame(confusion_mtx.numpy()).to_csv(\"conf.csv\",header=None,index=None)"
   ]
  },
  {
   "cell_type": "code",
   "execution_count": null,
   "metadata": {},
   "outputs": [],
   "source": [
    "print(confusion_mtx.numpy())"
   ]
  },
  {
   "cell_type": "code",
   "execution_count": null,
   "metadata": {},
   "outputs": [],
   "source": []
  }
 ],
 "metadata": {
  "kernelspec": {
   "display_name": "Python 3 (ipykernel)",
   "language": "python",
   "name": "python3"
  },
  "language_info": {
   "codemirror_mode": {
    "name": "ipython",
    "version": 3
   },
   "file_extension": ".py",
   "mimetype": "text/x-python",
   "name": "python",
   "nbconvert_exporter": "python",
   "pygments_lexer": "ipython3",
   "version": "3.9.13"
  }
 },
 "nbformat": 4,
 "nbformat_minor": 4
}
